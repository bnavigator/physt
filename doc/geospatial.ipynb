{
 "cells": [
  {
   "cell_type": "markdown",
   "metadata": {},
   "source": [
    "# \"Bagging\" the munros into rectangular bins\n",
    "\n",
    "*A Munro (About this sound listen (help·info)) is a mountain in Scotland with a height over 3,000 feet (914 m). Munros are named after Sir Hugh Munro, 4th Baronet (1856–1919), who produced the first list of such hills, known as Munro's Tables, in 1891...* says Wikipedia, more in https://en.wikipedia.org/wiki/Munro.\n",
    "\n",
    "Let's show the possibility to plot histograms in the maps with the help of folium library."
   ]
  },
  {
   "cell_type": "code",
   "execution_count": 1,
   "metadata": {},
   "outputs": [
    {
     "ename": "RuntimeError",
     "evalue": "Backend folium is not supported and cannot be set as default.",
     "output_type": "error",
     "traceback": [
      "\u001b[1;31m---------------------------------------------------------------------------\u001b[0m",
      "\u001b[1;31mRuntimeError\u001b[0m                              Traceback (most recent call last)",
      "\u001b[1;32m<ipython-input-1-e30055940d08>\u001b[0m in \u001b[0;36m<module>\u001b[1;34m\u001b[0m\n\u001b[0;32m      4\u001b[0m \u001b[1;32mimport\u001b[0m \u001b[0mphyst\u001b[0m\u001b[1;33m\u001b[0m\u001b[1;33m\u001b[0m\u001b[0m\n\u001b[0;32m      5\u001b[0m \u001b[1;32mimport\u001b[0m \u001b[0mphyst\u001b[0m\u001b[1;33m.\u001b[0m\u001b[0mplotting\u001b[0m\u001b[1;33m\u001b[0m\u001b[1;33m\u001b[0m\u001b[0m\n\u001b[1;32m----> 6\u001b[1;33m \u001b[0mphyst\u001b[0m\u001b[1;33m.\u001b[0m\u001b[0mplotting\u001b[0m\u001b[1;33m.\u001b[0m\u001b[0mset_default_backend\u001b[0m\u001b[1;33m(\u001b[0m\u001b[1;34m\"folium\"\u001b[0m\u001b[1;33m)\u001b[0m\u001b[1;33m\u001b[0m\u001b[1;33m\u001b[0m\u001b[0m\n\u001b[0m",
      "\u001b[1;32mc:\\users\\janpi\\documents\\code\\my\\physt\\physt\\plotting\\__init__.py\u001b[0m in \u001b[0;36mset_default_backend\u001b[1;34m(name)\u001b[0m\n\u001b[0;32m    149\u001b[0m         )\n\u001b[0;32m    150\u001b[0m     \u001b[1;32mif\u001b[0m \u001b[1;32mnot\u001b[0m \u001b[0mname\u001b[0m \u001b[1;32min\u001b[0m \u001b[0mbackends\u001b[0m\u001b[1;33m:\u001b[0m\u001b[1;33m\u001b[0m\u001b[1;33m\u001b[0m\u001b[0m\n\u001b[1;32m--> 151\u001b[1;33m         raise RuntimeError(\n\u001b[0m\u001b[0;32m    152\u001b[0m             \u001b[1;34m\"Backend {0} is not supported and cannot be set as default.\"\u001b[0m\u001b[1;33m.\u001b[0m\u001b[0mformat\u001b[0m\u001b[1;33m(\u001b[0m\u001b[0mname\u001b[0m\u001b[1;33m)\u001b[0m\u001b[1;33m\u001b[0m\u001b[1;33m\u001b[0m\u001b[0m\n\u001b[0;32m    153\u001b[0m         )\n",
      "\u001b[1;31mRuntimeError\u001b[0m: Backend folium is not supported and cannot be set as default."
     ]
    }
   ],
   "source": [
    "# Necessary import evil\n",
    "import pandas as pd\n",
    "import numpy as np\n",
    "import physt\n",
    "import physt.plotting\n",
    "physt.plotting.set_default_backend(\"folium\")"
   ]
  },
  {
   "cell_type": "code",
   "execution_count": null,
   "metadata": {},
   "outputs": [],
   "source": [
    "# Read the data\n",
    "import pandas as pd\n",
    "munros = pd.read_csv(\"../physt/examples/munros.csv\")\n",
    "munros.head()"
   ]
  },
  {
   "cell_type": "code",
   "execution_count": null,
   "metadata": {},
   "outputs": [],
   "source": [
    "# How many of them are there? Wikipedia says 282 (as of 2017)\n",
    "munros.shape"
   ]
  },
  {
   "cell_type": "markdown",
   "metadata": {},
   "source": [
    "## How many munros are in each 10' rectangle?"
   ]
  },
  {
   "cell_type": "code",
   "execution_count": null,
   "metadata": {},
   "outputs": [],
   "source": [
    "hist = physt.h2(munros[\"lat\"], munros[\"long\"], \"fixed_width\", bin_width=1 / 6)"
   ]
  },
  {
   "cell_type": "code",
   "execution_count": null,
   "metadata": {},
   "outputs": [],
   "source": [
    "map = hist.plot()\n",
    "map"
   ]
  },
  {
   "cell_type": "code",
   "execution_count": null,
   "metadata": {},
   "outputs": [],
   "source": [
    "# Now, let's combine this information with positions of the 20 tallest\n",
    "import folium\n",
    "map = hist.plot()\n",
    "for i, row in munros.iloc[:20].iterrows():\n",
    "    marker = folium.Marker([row[\"lat\"], row[\"long\"]], popup=\"{0} ({1} m)\".format(row[\"name\"], row[\"height\"]))\n",
    "    marker.add_to(map)\n",
    "map"
   ]
  }
 ],
 "metadata": {
  "anaconda-cloud": {},
  "kernelspec": {
   "display_name": "Python 3",
   "language": "python",
   "name": "python3"
  },
  "language_info": {
   "codemirror_mode": {
    "name": "ipython",
    "version": 3
   },
   "file_extension": ".py",
   "mimetype": "text/x-python",
   "name": "python",
   "nbconvert_exporter": "python",
   "pygments_lexer": "ipython3",
   "version": "3.8.3"
  }
 },
 "nbformat": 4,
 "nbformat_minor": 2
}
